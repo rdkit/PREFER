{
 "cells": [
  {
   "cell_type": "markdown",
   "metadata": {},
   "source": [
    "# Plot performances for each molecular representation"
   ]
  },
  {
   "cell_type": "markdown",
   "metadata": {},
   "source": [
    "After running TestSet_Bootstrapping.ipynb a .pkl file containing the final performances for each molecular representation should have been created. This notebook will then plot the results and perform a statistical analysis. "
   ]
  },
  {
   "cell_type": "markdown",
   "metadata": {},
   "source": [
    "## Imports"
   ]
  },
  {
   "cell_type": "code",
   "execution_count": null,
   "metadata": {
    "tags": []
   },
   "outputs": [],
   "source": [
    "import sys\n",
    "%load_ext autoreload\n",
    "# path to the main directory\n",
    "path_to_PREFER = 'path_to/PREFER/'\n",
    "# path to submodules\n",
    "path_to_cddd = 'path_to/PREFER/prefer/model_based_representations/models/cddd/'\n",
    "path_to_moler = 'path_to/PREFER/prefer/model_based_representations/models/molecule-generation/'\n",
    "sys.path.append(path_to_PREFER)\n",
    "sys.path.append(path_to_cddd)\n",
    "sys.path.append(path_to_moler)\n",
    "import warnings\n",
    "warnings.filterwarnings('ignore')\n",
    "from prefer.utils.filtering import *\n",
    "import sys"
   ]
  },
  {
   "cell_type": "code",
   "execution_count": null,
   "metadata": {
    "tags": []
   },
   "outputs": [],
   "source": [
    "from prefer.utils.post_processing_and_optimization_helpers import create_heat_map\n",
    "from prefer.utils.automation import merge_table_metrics, data_preparation, generate_molecular_representations, run, create_comparison_table"
   ]
  },
  {
   "cell_type": "markdown",
   "metadata": {},
   "source": [
    "### Folders where to find models"
   ]
  },
  {
   "cell_type": "code",
   "execution_count": null,
   "metadata": {},
   "outputs": [],
   "source": [
    "import pickle \n",
    "name = \"final_dict_['publicSolubility', 'publicLogD'].pickle\"\n",
    "with open(name, 'rb') as handle:\n",
    "    dict1 = pickle.load(handle)\n"
   ]
  },
  {
   "cell_type": "code",
   "execution_count": null,
   "metadata": {},
   "outputs": [],
   "source": [
    "import pandas as pd\n",
    "df1 = pd.DataFrame()\n",
    "repr_vect = []\n",
    "value_vect = []\n",
    "for repr_ in dict1['autosklearn']['publicSolubility'].keys():\n",
    "    for elem in dict1['autosklearn']['publicSolubility'][repr_]:\n",
    "        repr_vect.append(repr_)\n",
    "        value_vect.append(elem)\n",
    "df1['Representation'] = repr_vect\n",
    "df1['∆AUPRC'] = value_vect"
   ]
  },
  {
   "cell_type": "code",
   "execution_count": null,
   "metadata": {},
   "outputs": [],
   "source": [
    "import pandas as pd\n",
    "df2 = pd.DataFrame()\n",
    "repr_vect = []\n",
    "value_vect = []\n",
    "for repr_ in dict1['autosklearn']['publicLogD'].keys():\n",
    "    for elem in dict1['autosklearn']['publicLogD'][repr_]:\n",
    "        repr_vect.append(repr_)\n",
    "        value_vect.append(elem)\n",
    "df2['Representation'] = repr_vect\n",
    "df2['R2'] = value_vect"
   ]
  },
  {
   "cell_type": "code",
   "execution_count": null,
   "metadata": {
    "tags": []
   },
   "outputs": [],
   "source": [
    "from scipy import stats\n",
    "collect_stats = []\n",
    "for exper in dict1['autosklearn'].keys():\n",
    "    print(exper)\n",
    "    collect_group = []\n",
    "    for repr_ in dict1['autosklearn'][exper].keys():\n",
    "        collect_group.append(dict1['autosklearn'][exper][repr_])\n",
    "    #perform Friedman Test\n",
    "    collect_stats.append(stats.friedmanchisquare(collect_group[0], collect_group[1], collect_group[2], collect_group[3]))\n",
    "\n",
    "collect_stats"
   ]
  },
  {
   "cell_type": "code",
   "execution_count": null,
   "metadata": {
    "tags": []
   },
   "outputs": [],
   "source": [
    "import seaborn as sns\n",
    "import matplotlib.pyplot as plt\n",
    "plt.style.use('fivethirtyeight')\n",
    "fig, axes = plt.subplots(1, 3, figsize=(10, 5), sharey=True)\n",
    "fig.suptitle('Performances', size = 15)\n",
    "sns.set(font_scale=0.8)\n",
    "sns.violinplot(ax=axes[0], x='Representation', y='∆AUPRC', data=df1.sort_values('Representation'));\n",
    "axes[0].set_title('LE-MDCK', size = 15)\n",
    "axes[0].tick_params(axis='x', rotation=45)\n",
    "\n",
    "\n",
    "plt.savefig(f'classification_results_with_mean_and_std.png', bbox_inches='tight', transparent=True)\n",
    "\n",
    "plt.show()"
   ]
  },
  {
   "cell_type": "code",
   "execution_count": null,
   "metadata": {},
   "outputs": [],
   "source": [
    "import seaborn as sns\n",
    "import matplotlib.pyplot as plt\n",
    "plt.style.use('fivethirtyeight')\n",
    "fig, axes = plt.subplots(1, 3, figsize=(10, 5), sharey=True)\n",
    "fig.suptitle('Performances', size = 15)\n",
    "sns.set(font_scale=0.8)\n",
    "sns.violinplot(ax=axes[0], x='Representation', y='R2', data=df2.sort_values('Representation'));\n",
    "axes[0].set_title('logD', size = 15)\n",
    "axes[0].tick_params(axis='x', rotation=45)\n",
    "\n",
    "\n",
    "plt.savefig(f'regression_results_with_mean_and_std.png', bbox_inches='tight', transparent=True)\n",
    "\n",
    "plt.show()"
   ]
  },
  {
   "cell_type": "code",
   "execution_count": null,
   "metadata": {},
   "outputs": [],
   "source": [
    "income_groups = [df1.loc[df1['Representation']==repr_, '∆AUPRC'].values for repr_ in df1['Representation'].dropna().unique()]\n",
    "stat, p_value = f_oneway(*income_groups)\n",
    "print(f\"F Test: statistic={stat:.4f}, p-value={p_value:.4f}\")"
   ]
  },
  {
   "cell_type": "code",
   "execution_count": null,
   "metadata": {},
   "outputs": [],
   "source": [
    "income_groups = [df2.loc[df2['Representation']==repr_, 'R2'].values for repr_ in df2['Representation'].dropna().unique()]\n",
    "stat, p_value = f_oneway(*income_groups)\n",
    "print(f\"F Test: statistic={stat:.4f}, p-value={p_value:.4f}\")"
   ]
  }
 ],
 "metadata": {
  "kernelspec": {
   "display_name": "Python (prefer-env-released2)",
   "language": "python",
   "name": "prefer-env-released2"
  },
  "language_info": {
   "codemirror_mode": {
    "name": "ipython",
    "version": 3
   },
   "file_extension": ".py",
   "mimetype": "text/x-python",
   "name": "python",
   "nbconvert_exporter": "python",
   "pygments_lexer": "ipython3",
   "version": "3.7.7"
  }
 },
 "nbformat": 4,
 "nbformat_minor": 4
}
