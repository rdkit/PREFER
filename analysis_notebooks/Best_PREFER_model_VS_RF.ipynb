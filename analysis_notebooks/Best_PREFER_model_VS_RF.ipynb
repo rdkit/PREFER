{
 "cells": [
  {
   "cell_type": "markdown",
   "metadata": {},
   "source": [
    "# Best PREFER models VS RF"
   ]
  },
  {
   "cell_type": "markdown",
   "metadata": {},
   "source": [
    "After running TestSet_Bootstrapping.ipynb a .pkl file containing the final performances for each molecular representation should have been created. This notebook will then plot the best PREFER results against the RF results."
   ]
  },
  {
   "cell_type": "markdown",
   "metadata": {},
   "source": [
    "## Imports"
   ]
  },
  {
   "cell_type": "code",
   "execution_count": null,
   "metadata": {
    "tags": []
   },
   "outputs": [],
   "source": [
    "import sys\n",
    "%load_ext autoreload\n",
    "# path to the main directory\n",
    "path_to_PREFER = 'path_to/PREFER/'\n",
    "# path to submodules\n",
    "path_to_cddd = 'path_to/PREFER/prefer/model_based_representations/models/cddd/'\n",
    "path_to_moler = 'path_to/PREFER/prefer/model_based_representations/models/molecule-generation/'\n",
    "sys.path.append(path_to_PREFER)\n",
    "sys.path.append(path_to_cddd)\n",
    "sys.path.append(path_to_moler)\n",
    "import warnings\n",
    "warnings.filterwarnings('ignore')\n",
    "from prefer.utils.filtering import *\n",
    "import sys"
   ]
  },
  {
   "cell_type": "code",
   "execution_count": null,
   "metadata": {
    "tags": []
   },
   "outputs": [],
   "source": [
    "from prefer.utils.post_processing_and_optimization_helpers import create_heat_map\n",
    "from prefer.utils.automation import merge_table_metrics, data_preparation, generate_molecular_representations, run, create_comparison_table"
   ]
  },
  {
   "cell_type": "markdown",
   "metadata": {},
   "source": [
    "### Folders where to find models"
   ]
  },
  {
   "cell_type": "code",
   "execution_count": null,
   "metadata": {},
   "outputs": [],
   "source": [
    "import pickle\n",
    "\n",
    "    \n",
    "name = \"final_dict_['publicSolubility', 'publicLogD'].pickle\"\n",
    "with open(name, 'rb') as handle:\n",
    "    dict_ = pickle.load(handle)\n"
   ]
  },
  {
   "cell_type": "code",
   "execution_count": null,
   "metadata": {},
   "outputs": [],
   "source": [
    "def clean_RF_results (dict_):\n",
    "    reference = dict_['autosklearn']\n",
    "    dict_ref = dict()\n",
    "    \n",
    "    for key in reference.keys():\n",
    "        # check the index of the fingerprints representation for each assay\n",
    "        for index, repr_ in enumerate(reference[key]):\n",
    "            if(repr_ == 'FINGERPRINTS'):\n",
    "                dict_ref[key] = index\n",
    "    for key in dict_ref.keys():\n",
    "        index_ = dict_ref[key]\n",
    "        dict_['RF'][key] = dict_['RF'][key][0+index_*6:6+index_*6]\n",
    "    return dict_"
   ]
  },
  {
   "cell_type": "code",
   "execution_count": null,
   "metadata": {},
   "outputs": [],
   "source": [
    "dict_ = clean_RF_results(dict_)"
   ]
  },
  {
   "cell_type": "code",
   "execution_count": null,
   "metadata": {},
   "outputs": [],
   "source": [
    "import numpy as np\n",
    "final_dict = dict_\n",
    "collect_means_RF = []\n",
    "collect_means_autosklearn_fp = []\n",
    "collect_means_autosklearn_2dd = []\n",
    "collect_means_autosklearn_cddd = []\n",
    "collect_means_autosklearn_moler = []\n",
    "collect_stds_RF = []\n",
    "collect_stds_autosklearn_fp = []\n",
    "collect_stds_autosklearn_2dd = []\n",
    "collect_stds_autosklearn_cddd = []\n",
    "collect_stds_autosklearn_moler = []\n",
    "collect_names = []\n",
    "collect_names_confirmation = []\n",
    "for key2 in final_dict['RF'].keys():\n",
    "    collect_means_RF.append(np.mean(final_dict['RF'][key2]))\n",
    "    collect_stds_RF.append(np.std(final_dict['RF'][key2]))\n",
    "    collect_names.append(key2)\n",
    "for key2 in final_dict['autosklearn'].keys():\n",
    "    collect_means_autosklearn_fp.append(np.mean(final_dict['autosklearn'][key2]['FINGERPRINTS']))\n",
    "    collect_means_autosklearn_2dd.append(np.mean(final_dict['autosklearn'][key2]['DESCRIPTORS2D']))\n",
    "    collect_means_autosklearn_cddd.append(np.mean(final_dict['autosklearn'][key2]['CDDD']))\n",
    "    collect_means_autosklearn_moler.append(np.mean(final_dict['autosklearn'][key2]['MOLER']))\n",
    "    collect_stds_autosklearn_fp.append(np.std(final_dict['autosklearn'][key2]['FINGERPRINTS']))\n",
    "    collect_stds_autosklearn_2dd.append(np.std(final_dict['autosklearn'][key2]['DESCRIPTORS2D']))\n",
    "    collect_stds_autosklearn_cddd.append(np.std(final_dict['autosklearn'][key2]['CDDD']))\n",
    "    collect_stds_autosklearn_moler.append(np.std(final_dict['autosklearn'][key2]['MOLER']))\n",
    "    collect_names_confirmation.append(key2)"
   ]
  },
  {
   "cell_type": "code",
   "execution_count": null,
   "metadata": {},
   "outputs": [],
   "source": [
    "collect_names, collect_names_confirmation"
   ]
  },
  {
   "cell_type": "code",
   "execution_count": null,
   "metadata": {},
   "outputs": [],
   "source": [
    "best_values_mean =[]\n",
    "best_values_std =[]\n",
    "best_representation =[]\n",
    "representations_names = ['FINGERPRINTS', 'DESCRIPTORS2D', 'CDDD', 'MOLER']\n",
    "for fp, _2dd, cddd, moler, fpSD, _2ddSD, cdddSD, molerSD in zip(collect_means_autosklearn_fp, collect_means_autosklearn_2dd, collect_means_autosklearn_cddd, collect_means_autosklearn_moler, collect_stds_autosklearn_fp, collect_stds_autosklearn_2dd, collect_stds_autosklearn_cddd, collect_stds_autosklearn_moler):\n",
    "    means_vect = [fp, _2dd, cddd, moler]\n",
    "    stds_vect = [fpSD, _2ddSD, cdddSD, molerSD]\n",
    "    index_max = np.argmax(means_vect)\n",
    "    best_values_mean.append(means_vect[index_max])\n",
    "    best_values_std.append(stds_vect[index_max])\n",
    "    best_representation.append(representations_names[index_max])"
   ]
  },
  {
   "cell_type": "code",
   "execution_count": null,
   "metadata": {},
   "outputs": [],
   "source": [
    "best_representation"
   ]
  },
  {
   "cell_type": "code",
   "execution_count": null,
   "metadata": {},
   "outputs": [],
   "source": [
    "import numpy as np\n",
    "import matplotlib.pyplot as plt\n",
    "plt.style.use('fivethirtyeight')\n",
    "import matplotlib.pylab as pylab\n",
    "params = {'legend.fontsize': 'x-large',\n",
    "          'figure.figsize': (25, 5),\n",
    "         'axes.labelsize': 'x-large',\n",
    "         'axes.titlesize':'x-large',\n",
    "         'xtick.labelsize':'x-large',\n",
    "         'ytick.labelsize':'x-large'}\n",
    "pylab.rcParams.update(params)\n",
    "\n",
    "def plot_each_res(bars1, bars2, yer1, yer2, collect_names):\n",
    "    plt.rcParams[\"figure.figsize\"] = (15,10)\n",
    "    \n",
    "    # width of the bars\n",
    "    barWidth = 0.3\n",
    "\n",
    "\n",
    "    # The x position of bars\n",
    "    r1 = np.arange(len(bars1))\n",
    "    r2 = [x + barWidth for x in r1]\n",
    "\n",
    "    # Create blue bars\n",
    "    barsRF = plt.bar(r1, bars1, width = barWidth, yerr=yer1, label='RandomForest')\n",
    "\n",
    "    # Create cyan bars\n",
    "    barsAS = plt.bar(r2, bars2, width = barWidth, yerr=yer2, label='PREFER')\n",
    "    \n",
    "    for i in [1, 2, 4]:\n",
    "        barsRF[i].set_color('#9ecae1')\n",
    "        barsAS[i].set_color('#fc9272')\n",
    "        \n",
    "    for i in [0, 3, 5]:\n",
    "        barsRF[i].set_color('#3182bd')\n",
    "        barsAS[i].set_color('#de2d26')\n",
    "\n",
    "    # general layout\n",
    "    plt.xticks([r + barWidth/2 for r in range(len(bars1))], collect_names, size = 21)\n",
    "    plt.ylabel('Evaluation Metrics', size = 30)\n",
    "    plt.legend()\n",
    "    plt.rcParams['font.size'] = '50'\n",
    "    plt.savefig(f'./comparison_with_baseline.png', bbox_inches='tight', transparent=True)\n",
    "    # Show graphic\n",
    "    plt.show()"
   ]
  },
  {
   "cell_type": "code",
   "execution_count": null,
   "metadata": {},
   "outputs": [],
   "source": [
    "bar_regression_means_prefer= []\n",
    "bar_classification_means_prefer = [] \n",
    "bar_regression_stds_prefer= []\n",
    "bar_classification_stds_prefer = [] \n",
    "collect_names_regression = []\n",
    "bar_regression_means_rf = []\n",
    "bar_classification_means_rf= []\n",
    "bar_regression_stds_rf= []\n",
    "bar_classification_stds_rf = []\n",
    "collect_names_classification = []\n",
    "for name, mean_rf, mean_prefer, std_rf, std_prefer in zip(collect_names, collect_means_RF, best_values_mean, collect_stds_RF, best_values_std):\n",
    "    if name in ['publicLogD']:\n",
    "        bar_regression_means_prefer.append(mean_prefer)\n",
    "        bar_regression_stds_prefer.append(std_prefer)\n",
    "        bar_regression_means_rf.append(mean_rf)\n",
    "        bar_regression_stds_rf.append(std_rf)\n",
    "        collect_names_regression.append(name)\n",
    "        \n",
    "    else:\n",
    "        bar_classification_means_prefer.append(mean_prefer)\n",
    "        bar_classification_stds_prefer.append(std_prefer)\n",
    "        bar_classification_means_rf.append(mean_rf)\n",
    "        bar_classification_stds_rf.append(std_rf)\n",
    "        collect_names_classification.append(name)"
   ]
  },
  {
   "cell_type": "code",
   "execution_count": null,
   "metadata": {},
   "outputs": [],
   "source": [
    "params = {'legend.fontsize': 'x-large',\n",
    "          'figure.figsize': (25, 5),\n",
    "         'axes.labelsize': 'x-large',\n",
    "         'axes.titlesize':'x-large',\n",
    "         'xtick.labelsize':'x-large',\n",
    "         'ytick.labelsize':'x-large'}\n",
    "pylab.rcParams.update(params)"
   ]
  },
  {
   "cell_type": "code",
   "execution_count": null,
   "metadata": {},
   "outputs": [],
   "source": [
    "import numpy as np\n",
    "import matplotlib.pyplot as plt\n",
    "plt.style.use('fivethirtyeight')\n",
    "import matplotlib.pylab as pylab\n",
    "\n",
    "\n",
    "def plot_each_res(bar_regression_means_prefer, bar_classification_means_prefer, bar_regression_stds_prefer, bar_classification_stds_prefer, collect_names_regression, \n",
    "                 bar_regression_means_rf, bar_classification_means_rf, bar_regression_stds_rf, bar_classification_stds_rf, collect_names_classification):\n",
    "    \n",
    "    \n",
    "    fig, axs = plt.subplots(2)\n",
    "\n",
    "    plt.rcParams[\"figure.figsize\"] = (30,25)\n",
    "    \n",
    "    # width of the bars\n",
    "    barWidth = 0.3\n",
    "\n",
    "    # regression\n",
    "    # The x position of bars\n",
    "    r1 = np.arange(len(bar_regression_means_rf))\n",
    "    r2 = [x + barWidth for x in r1]\n",
    "    # Create blue bars\n",
    "    barsRF = axs[0].bar(r1, bar_regression_means_rf, width = barWidth, yerr=bar_regression_stds_rf, label='RandomForest', color = '#3182bd')\n",
    "\n",
    "    # Create cyan bars\n",
    "    barsAS = axs[0].bar(r2, bar_regression_means_prefer, width = barWidth, yerr=bar_regression_stds_prefer, label='PREFER', color = '#de2d26')\n",
    "    \n",
    "    # general layout\n",
    "    axs[0].set_xticks([r + barWidth/2 for r in range(len(bar_regression_means_rf))], collect_names_regression, size = 30)\n",
    "    axs[0].set_ylabel('R2', size =25)\n",
    "    axs[0].legend(fontsize=25, loc='upper left')\n",
    "    axs[0].figure.set_size_inches(15,15)\n",
    "    axs[0].tick_params(axis='both', which='major', labelsize=25)\n",
    "    \n",
    "    # classification\n",
    "    # The x position of bars\n",
    "    r1 = np.arange(len(bar_classification_means_rf))\n",
    "    r2 = [x + barWidth for x in r1]\n",
    "    # Create blue bars\n",
    "    barsRF = axs[1].bar(r1, bar_classification_means_rf, width = barWidth, yerr=bar_classification_stds_rf, label='RandomForest', color = '#9ecae1')\n",
    "\n",
    "    # Create cyan bars\n",
    "    barsAS = axs[1].bar(r2, bar_classification_means_prefer, width = barWidth, yerr=bar_classification_stds_prefer, label='PREFER', color = '#fc9272')\n",
    "    \n",
    "    # general layout\n",
    "    axs[1].set_xticks([r + barWidth/2 for r in range(len(bar_classification_means_rf))], collect_names_classification, size = 30)\n",
    "    axs[1].set_ylabel('ROC_AUC', size = 25)\n",
    "    axs[1].legend(fontsize=25, loc='lower left')\n",
    "    axs[1].figure.set_size_inches(15,15)\n",
    "    axs[1].tick_params(axis='both', which='major', labelsize=25)\n",
    "    \n",
    "\n",
    "    \n",
    "    plt.rcParams['font.size'] = '20'\n",
    "    plt.savefig(f'./comparison_with_baseline2.png', bbox_inches='tight', transparent=True)\n",
    "    # Show graphic\n",
    "    plt.show()"
   ]
  },
  {
   "cell_type": "code",
   "execution_count": null,
   "metadata": {},
   "outputs": [],
   "source": [
    "bar_regression_means_prefer, bar_regression_means_rf"
   ]
  },
  {
   "cell_type": "code",
   "execution_count": null,
   "metadata": {},
   "outputs": [],
   "source": [
    "plot_each_res(bar_regression_means_prefer, bar_classification_means_prefer, bar_regression_stds_prefer, bar_classification_stds_prefer, collect_names_regression, \n",
    "                 bar_regression_means_rf, bar_classification_means_rf, bar_regression_stds_rf, bar_classification_stds_rf, collect_names_classification)"
   ]
  }
 ],
 "metadata": {
  "kernelspec": {
   "display_name": "Python (prefer-env-released2)",
   "language": "python",
   "name": "prefer-env-released2"
  },
  "language_info": {
   "codemirror_mode": {
    "name": "ipython",
    "version": 3
   },
   "file_extension": ".py",
   "mimetype": "text/x-python",
   "name": "python",
   "nbconvert_exporter": "python",
   "pygments_lexer": "ipython3",
   "version": "3.7.7"
  }
 },
 "nbformat": 4,
 "nbformat_minor": 4
}
