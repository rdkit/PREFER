{
 "cells": [
  {
   "cell_type": "markdown",
   "id": "48c532a6-753c-4eaa-a68f-a87a8d91d139",
   "metadata": {},
   "source": [
    "## Notebook to extract zip files downloaded from [FS-Mol repo](https://figshare.com/ndownloader/files/31345321)"
   ]
  },
  {
   "cell_type": "markdown",
   "id": "6402e340-f77c-4a05-82dc-88adebd54d6d",
   "metadata": {},
   "source": [
    "This notebook is provided to easily extract and convert zipped files from the FS-Mol repository to .csv files. So before running the cells please download the zip files from [here](https://figshare.com/ndownloader/files/31345321)"
   ]
  },
  {
   "cell_type": "code",
   "execution_count": null,
   "id": "3cd989e0-c560-4845-80bc-90a4411cb38c",
   "metadata": {},
   "outputs": [],
   "source": [
    "# Add the path where you have saved the zip files\n",
    "path_to_zip_files = None\n",
    "# Add path where you would like to store the converted csv files to be used in PREFER\n",
    "path_where_to_store_csv_files = None"
   ]
  },
  {
   "cell_type": "code",
   "execution_count": null,
   "id": "673ef336-c98b-4e6b-8641-a1d7af0dd5e0",
   "metadata": {
    "tags": []
   },
   "outputs": [],
   "source": [
    "# unzip files\n",
    "import os\n",
    "import json, gzip\n",
    "\n",
    "# only test sets will be used for training and testing the PREFER model\n",
    "sets = ['test']\n",
    "index = 0\n",
    "for set_ in sets:\n",
    "    path_to_files = f'{path_to_zip_files}/{set_}/'\n",
    "    zipped_file_names = os.listdir(path_to_files)\n",
    "    for zipped_file in zipped_file_names:\n",
    "        print(f'current file is: {zipped_file} - iteration number: {index}')\n",
    "        index=index+1\n",
    "        run = f'gunzip {path_to_files}{zipped_file}'\n",
    "        !{run}"
   ]
  },
  {
   "cell_type": "code",
   "execution_count": null,
   "id": "c09e06bd-6d78-4315-bd90-328628d7d7fb",
   "metadata": {
    "tags": []
   },
   "outputs": [],
   "source": [
    "# covert data for PREFER\n",
    "\n",
    "import json\n",
    "import pandas as pd\n",
    "file_names = os.listdir(path_to_files)\n",
    "\n",
    "for file_name in file_names:\n",
    "    print(f'Current file is {file_name}')\n",
    "    data = []\n",
    "    df = pd.DataFrame()\n",
    "    collect_smiles = []\n",
    "    collect_ids = []\n",
    "    collect_labels = []\n",
    "    with open(path_to_files+file_name) as f:\n",
    "        for line in f:\n",
    "            data.append(json.loads(line))\n",
    "        for elem in data:\n",
    "            collect_smiles.append(elem['SMILES'])\n",
    "            collect_ids.append(elem['Assay_ID'])\n",
    "            collect_labels.append(elem['Property'])\n",
    "        df = pd.DataFrame({'SMILES': collect_smiles, 'Assay_ID': collect_ids, 'Property': collect_labels})\n",
    "        file_name = file_name.replace('.jsonl', '')\n",
    "        df.to_csv(f'{path_where_to_store_csv_files}/{file_name}.csv', index = False)"
   ]
  }
 ],
 "metadata": {
  "interpreter": {
   "hash": "e06fcc65451699fab52210cecc89ce74d347871d8379f3a65371b5502fcda228"
  },
  "kernelspec": {
   "display_name": "Python (prefer-env-released2)",
   "language": "python",
   "name": "prefer-env-released2"
  },
  "language_info": {
   "codemirror_mode": {
    "name": "ipython",
    "version": 3
   },
   "file_extension": ".py",
   "mimetype": "text/x-python",
   "name": "python",
   "nbconvert_exporter": "python",
   "pygments_lexer": "ipython3",
   "version": "3.7.7"
  }
 },
 "nbformat": 4,
 "nbformat_minor": 5
}
